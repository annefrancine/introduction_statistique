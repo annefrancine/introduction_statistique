{
 "cells": [
  {
   "cell_type": "markdown",
   "id": "7db4ce86",
   "metadata": {},
   "source": [
    "## C’est quoi Python ?\n",
    "Python est un langage orienté objet bénéficiant d'une syntaxe précise et efficace. Il est couramment utilisé par les data-scientists et très apprécié pour ses bibliothèques d'analyse numérique et de calcul scientifique (numpy, pandas), de visualisation (matplotlib), mais surtout grâce à sa puissante librairie dédiée au Machine Learning scikit-learn.\n",
    "\n",
    "## Qu'est-ce qu'une variable ?\n",
    "Les variables sont l’un des concepts qui se retrouvent dans la totalité des langages de programmation. Autant dire que sans variable, on ne peut pas programmer, et ce n’est pas une exagération.\n",
    "\n",
    "## Types de variables\n",
    "\n",
    "Il existe plusieurs types de variables que l'on distingue usuellement en deux catégories : les variables immuables et les variables modifiables. Les types de variables immuables sont les suivantes:\n",
    "\n",
    "- bool : booléen ex: True False\n",
    "- None : ce type est une classe \"vide\" (sans attribut ni méthode) pour indiquer à l'interpréteur que la valeur n’existe pas (mais la variable, elle, existe)\n",
    "- int : entier ex: 2\n",
    "- float : réel ex: 2.0\n",
    "- str : une chaine de caractères ex: 'chaine' ou \"chaine\"\n",
    "- tuple : une séquence d'objets\n",
    "- Liste : À l'instar du tuple, une liste est un ensemble indexé d'éléments, qui peuvent être de types différents. C’est une sorte de tuple modifiable.\n",
    "- Un dictionnaire est un tableau pour lequel les indices ou clés ne sont pas uniquement des entiers mais tout type hashable (le plus souvent un entier, un réel, une chaîne de caractères, un tuple). \n",
    "\n"
   ]
  },
  {
   "cell_type": "code",
   "execution_count": null,
   "id": "d8f7cf43",
   "metadata": {},
   "outputs": [],
   "source": [
    "x = [4, 5] # création d’une liste composée de deux entiers\n",
    "y = [\"un\", 1, \"deux\", 2] # création d’une liste composée de deux chaînes de caractères et de deux entiers, l’ordre d’écriture est important\n"
   ]
  },
  {
   "cell_type": "code",
   "execution_count": null,
   "id": "2afc141f",
   "metadata": {},
   "outputs": [],
   "source": [
    "x,y"
   ]
  },
  {
   "cell_type": "code",
   "execution_count": null,
   "id": "0cd67f56",
   "metadata": {},
   "outputs": [],
   "source": [
    "dico = {\"cle1\" : \"valeur1\", \"cle2\" : 2}# dictionnaire\n",
    "print(dico[\"cle1\"])  # affiche valeur1 \n",
    "print(dico[\"cle2\"])  # affiche 2\n"
   ]
  },
  {
   "cell_type": "markdown",
   "id": "fe2fc563",
   "metadata": {},
   "source": [
    "- pour une liste, on utilise les crochets : [ ]  ( ou list() )\n",
    "- pour un dictionnaire, les accolades : { }  ( ou dict() )\n",
    "- pour un tuple, les parenthèses : ( )  ( ou tuple() )\n",
    "- pour une chaîne de caractères, les guillemets : \" \", ' '\n"
   ]
  },
  {
   "cell_type": "markdown",
   "id": "5a58a00d",
   "metadata": {},
   "source": [
    "## Quelques bases rapides en Python\n",
    "\n",
    "1) Affectation : L' affectation d'une variable consiste à lui attribuer une valeur au cours de l'exécution du programme à l'aide de l'opérateur d'affectation =. Elle suppose que la définition de la variable (la réservation de son emplacement en mémoire) a déjà été effectuée.\n"
   ]
  },
  {
   "cell_type": "code",
   "execution_count": null,
   "id": "4a7ffa7e",
   "metadata": {},
   "outputs": [],
   "source": [
    "a = 2\n",
    "a"
   ]
  },
  {
   "cell_type": "code",
   "execution_count": null,
   "id": "148e1ce2",
   "metadata": {},
   "outputs": [],
   "source": [
    "b = a + 3\n",
    "b"
   ]
  },
  {
   "cell_type": "markdown",
   "id": "3d0c8b3f",
   "metadata": {},
   "source": [
    "2) Affichage - la fonction print(). Pour afficher, on utilise la fonction print()"
   ]
  },
  {
   "cell_type": "code",
   "execution_count": null,
   "id": "1a52cc75",
   "metadata": {},
   "outputs": [],
   "source": [
    "print(\"bonjour\")"
   ]
  },
  {
   "cell_type": "code",
   "execution_count": null,
   "id": "5e3ca300",
   "metadata": {},
   "outputs": [],
   "source": [
    "# Il est possible de réaliser plusieurs affichages à la suite. Pour cela, on sépare les éléments par des virgules\n",
    "\n",
    "a = 5\n",
    "print(\"a vaut\", a)"
   ]
  },
  {
   "cell_type": "markdown",
   "id": "b01548b7",
   "metadata": {},
   "source": [
    "3) La fonction range()\n",
    "Si vous avez besoin de créer sur une suite d’entiers, vous pouvez utiliser la fonction range(). Elle génère une suite arithmétique.\n",
    "\n",
    "range(valeur_initiale, borne_de_fin, pas)"
   ]
  },
  {
   "cell_type": "code",
   "execution_count": null,
   "id": "ffc00f14",
   "metadata": {},
   "outputs": [],
   "source": [
    "list(range(10))"
   ]
  },
  {
   "cell_type": "code",
   "execution_count": null,
   "id": "b7e38767",
   "metadata": {},
   "outputs": [],
   "source": [
    "list(range(-10, -100, -30))"
   ]
  },
  {
   "cell_type": "markdown",
   "id": "dbfa723a",
   "metadata": {},
   "source": [
    "4) La fonction len() : La fonction len() renvoie le nombre d’éléments. Par exemple :"
   ]
  },
  {
   "cell_type": "code",
   "execution_count": null,
   "id": "c2c8d179",
   "metadata": {},
   "outputs": [],
   "source": [
    "a = list(range(7,10))\n",
    "len(a)"
   ]
  },
  {
   "cell_type": "markdown",
   "id": "a9e1361c",
   "metadata": {},
   "source": [
    "5) Accès aux éléments d’une liste : Pour accéder à un élément d’une liste, on indique entre crochets [] l’indice de l’élément. En Python, l’indice du premier élément d’une liste est 0 (ceci est à distinguer d’autres langages)."
   ]
  },
  {
   "cell_type": "code",
   "execution_count": null,
   "id": "44b89c81",
   "metadata": {},
   "outputs": [],
   "source": [
    "a = list(range(1,10,2))\n",
    "a"
   ]
  },
  {
   "cell_type": "code",
   "execution_count": null,
   "id": "3bd47150",
   "metadata": {},
   "outputs": [],
   "source": [
    "a[0]"
   ]
  },
  {
   "cell_type": "code",
   "execution_count": null,
   "id": "103627ba",
   "metadata": {},
   "outputs": [],
   "source": [
    "a[2]"
   ]
  },
  {
   "cell_type": "markdown",
   "id": "fd47a52b",
   "metadata": {},
   "source": [
    "6) Boucle for : Quand on connaît le nombre d’itérations à l’avance, on pourra utiliser une boucle for(). La syntaxe est la suivante :"
   ]
  },
  {
   "cell_type": "code",
   "execution_count": null,
   "id": "c35606bb",
   "metadata": {},
   "outputs": [],
   "source": [
    "for objet in valeurs_possibles:\n",
    "  instructions"
   ]
  },
  {
   "cell_type": "code",
   "execution_count": null,
   "id": "ada14c08",
   "metadata": {},
   "outputs": [],
   "source": [
    "n = 3\n",
    "print(\"Je vais vous demander\", n, \"nombres\")\n",
    "for i in range(n):\n",
    "    x = int(input(\"Donnez un nombre : \"))\n",
    "    if x > 0:\n",
    "        print(x, \"est positif\")\n",
    "    else:\n",
    "        print(x, \"est négatif ou nul\")\n",
    "print(\"Fin\")"
   ]
  },
  {
   "cell_type": "markdown",
   "id": "e9832389",
   "metadata": {},
   "source": [
    "7) Les instructions conditionnelles  if-else :  Si la condition n’est pas vérifiée, on peut proposer des instructions à effectuer, à l’aide des instructions\n"
   ]
  },
  {
   "cell_type": "code",
   "execution_count": null,
   "id": "541ee0d3",
   "metadata": {},
   "outputs": [],
   "source": [
    "if expression:\n",
    "  instructions\n",
    "else:\n",
    "  autres_instruction"
   ]
  },
  {
   "cell_type": "markdown",
   "id": "0b6f3dab",
   "metadata": {},
   "source": [
    "Par exemple, admettons qu’on veuille créer une variable de chaleur prenant la valeur chaud si la valeur de la variable température dépasse 28 degrés C, froid sinon. Admettons que la température est de 26 degrés C :"
   ]
  },
  {
   "cell_type": "code",
   "execution_count": null,
   "id": "93771a1d",
   "metadata": {},
   "outputs": [],
   "source": [
    "temperature = 26\n",
    "chaleur = \"\"\n",
    "\n",
    "if temperature > 28:\n",
    "  chaleur = \"chaud\"\n",
    "else:\n",
    "  chaleur = \"froid\"\n",
    "\n",
    "print(\"Il fait \" + chaleur)\n"
   ]
  },
  {
   "cell_type": "markdown",
   "id": "593bc4c6",
   "metadata": {},
   "source": [
    "8) Les instructions conditionnelles  if-elif : Si la condition n’est pas vérifiée, on peut en tester une autre et alors évaluer d’autres instructions si cette seconde est vérifiée. Sinon, on peut en tester encore une autre, et ainsi de suite. On peut aussi proposer des instructions si aucune des conditions n’a été évaluée à True. Pour ce faire, on peut utiliser des instructions conditionnelles if-elif. La syntaxe est la suivante :"
   ]
  },
  {
   "cell_type": "code",
   "execution_count": null,
   "id": "838fb52e",
   "metadata": {},
   "outputs": [],
   "source": [
    "if expression:\n",
    "  instructions\n",
    "elif expression_2:\n",
    "  instructions_2\n",
    "elif expression_3:\n",
    "  instructions_3\n",
    "else:\n",
    "  autres_instruction"
   ]
  },
  {
   "cell_type": "markdown",
   "id": "3d9dbd4c",
   "metadata": {},
   "source": [
    "L’exemple précédent manque un peu de sens commun. Peut-on dire que lorsqu’il fait 28 degrés C ou moins il fait froid ? Ajoutons quelques nuances :"
   ]
  },
  {
   "cell_type": "code",
   "execution_count": null,
   "id": "046b25c9",
   "metadata": {},
   "outputs": [],
   "source": [
    "temperature = -4\n",
    "chaleur = \"\"\n",
    "\n",
    "if temperature > 28:\n",
    "  chaleur = \"chaude\"\n",
    "elif temperature <= 28 and temperature > 15:\n",
    "  chaleur = \"tempérée\"\n",
    "elif temperature <= 15 and temperature > 0:\n",
    "  chaleur = \"froide\"\n",
    "else:\n",
    "  chaleur = \"très froide\"\n",
    "\n",
    "print(\"La température est \" + chaleur)\n"
   ]
  },
  {
   "cell_type": "markdown",
   "id": "0c297d10",
   "metadata": {},
   "source": [
    "9) boucle  while\n",
    "Le principe d’une boucle while() est que les instructions à l’intérieur de la boucle seront répétées tant qu’une condition est respectée. L’idée est de faire dépendre cette condition d’un ou plusieurs objets qui seront modifiés au cours des itérations (sans cela, la boucle tournerait à l’infini). La syntaxe est la suivante :\n"
   ]
  },
  {
   "cell_type": "code",
   "execution_count": null,
   "id": "935c3778",
   "metadata": {},
   "outputs": [],
   "source": [
    "while condition:\n",
    "  instructions"
   ]
  },
  {
   "cell_type": "code",
   "execution_count": null,
   "id": "c9e5d552",
   "metadata": {},
   "outputs": [],
   "source": [
    "x = 100\n",
    "while x/3 > 1:\n",
    "  print(x/3)"
   ]
  },
  {
   "cell_type": "markdown",
   "id": "8b1cff46",
   "metadata": {},
   "source": [
    "10) Fonctions\n",
    "Comme en mathématiques les fonctions ou sous-programmes permettent de rassembler une suite d'instructions en un objet réutilisable, ce qui permet de ne pas recopier plusieurs fois le même code dans un programme.\n",
    "\n",
    "Une fonction est déclarée à l’aide du mot clé keyword. Ce qu’elle renvoie est retourné à l’aide du mot clé return\n"
   ]
  },
  {
   "cell_type": "code",
   "execution_count": null,
   "id": "df6d53d5",
   "metadata": {},
   "outputs": [],
   "source": [
    "def nom_fonction(parametres):\n",
    "  corps_de_la_fonction\n",
    "nom_fonction()"
   ]
  },
  {
   "cell_type": "code",
   "execution_count": null,
   "id": "c5a28d23",
   "metadata": {},
   "outputs": [],
   "source": [
    "# Par exemple, si on souhaite définir la fonction qui calcule le carré d’un nombre, voici ce que l’on peut écrire :\n",
    "def carre(x):\n",
    "  return x**2\n",
    "print(carre(2))\n"
   ]
  }
 ],
 "metadata": {
  "kernelspec": {
   "display_name": "Python 3",
   "language": "python",
   "name": "python3"
  },
  "language_info": {
   "codemirror_mode": {
    "name": "ipython",
    "version": 3
   },
   "file_extension": ".py",
   "mimetype": "text/x-python",
   "name": "python",
   "nbconvert_exporter": "python",
   "pygments_lexer": "ipython3",
   "version": "3.8.8"
  }
 },
 "nbformat": 4,
 "nbformat_minor": 5
}
